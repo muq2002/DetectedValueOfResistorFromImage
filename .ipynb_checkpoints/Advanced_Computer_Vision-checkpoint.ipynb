{
 "cells": [
  {
   "cell_type": "markdown",
   "id": "cba54a48-8153-4a60-94d5-cd4ce1a4a11f",
   "metadata": {},
   "source": [
    "# Computer Vision Advanced Counrse"
   ]
  },
  {
   "cell_type": "code",
   "execution_count": 1,
   "id": "7327b146-fac0-4886-bf11-ccaceb22f92b",
   "metadata": {},
   "outputs": [],
   "source": [
    "import cv2\n",
    "import mediapipe as mp"
   ]
  },
  {
   "cell_type": "code",
   "execution_count": 2,
   "id": "efba95bf-c520-406e-aec1-24e4e863e029",
   "metadata": {},
   "outputs": [
    {
     "ename": "AttributeError",
     "evalue": "module 'mediapipe.python.solutions' has no attribute 'draw_utils'",
     "output_type": "error",
     "traceback": [
      "\u001b[1;31m---------------------------------------------------------------------------\u001b[0m",
      "\u001b[1;31mAttributeError\u001b[0m                            Traceback (most recent call last)",
      "Input \u001b[1;32mIn [2]\u001b[0m, in \u001b[0;36m<cell line: 4>\u001b[1;34m()\u001b[0m\n\u001b[0;32m      1\u001b[0m cap \u001b[38;5;241m=\u001b[39m cv2\u001b[38;5;241m.\u001b[39mVideoCapture(\u001b[38;5;241m0\u001b[39m)\n\u001b[0;32m      3\u001b[0m mp_hand \u001b[38;5;241m=\u001b[39m mp\u001b[38;5;241m.\u001b[39msolutions\u001b[38;5;241m.\u001b[39mhands\n\u001b[1;32m----> 4\u001b[0m mp_draw \u001b[38;5;241m=\u001b[39m \u001b[43mmp\u001b[49m\u001b[38;5;241;43m.\u001b[39;49m\u001b[43msolutions\u001b[49m\u001b[38;5;241;43m.\u001b[39;49m\u001b[43mdraw_utils\u001b[49m\n\u001b[0;32m      5\u001b[0m hands \u001b[38;5;241m=\u001b[39m pm_hand\u001b[38;5;241m.\u001b[39mHands()\n\u001b[0;32m      7\u001b[0m \u001b[38;5;28;01mwhile\u001b[39;00m(cap\u001b[38;5;241m.\u001b[39misOpened()):\n",
      "\u001b[1;31mAttributeError\u001b[0m: module 'mediapipe.python.solutions' has no attribute 'draw_utils'"
     ]
    }
   ],
   "source": [
    "cap = cv2.VideoCapture(0)\n",
    "\n",
    "mp_hand = mp.solutions.hands\n",
    "mp_draw = mp.solutions.drawing_utils\n",
    "hands = pm_hand.Hands()\n",
    "\n",
    "while(cap.isOpened()):\n",
    "    _,  frame = cap.read()\n",
    "    frame  = cv2.cvtColor(frame, cv2.COLOR_BGR2RGB)\n",
    "    result = hands.process(frame)\n",
    "    print(result.multi_hand_landmarks)\n",
    "    cv2.imshow(\"Image\", frame)\n",
    "    if cv2.waitKey(27) & 0xFF == ord('q'):\n",
    "        break\n",
    "    \n",
    "cv2.destroyAllWindows()"
   ]
  },
  {
   "cell_type": "code",
   "execution_count": null,
   "id": "6685dd50-a012-4fd5-9fc0-24c2edde5c6c",
   "metadata": {},
   "outputs": [],
   "source": []
  }
 ],
 "metadata": {
  "kernelspec": {
   "display_name": "Python 3 (ipykernel)",
   "language": "python",
   "name": "python3"
  },
  "language_info": {
   "codemirror_mode": {
    "name": "ipython",
    "version": 3
   },
   "file_extension": ".py",
   "mimetype": "text/x-python",
   "name": "python",
   "nbconvert_exporter": "python",
   "pygments_lexer": "ipython3",
   "version": "3.10.5"
  }
 },
 "nbformat": 4,
 "nbformat_minor": 5
}
